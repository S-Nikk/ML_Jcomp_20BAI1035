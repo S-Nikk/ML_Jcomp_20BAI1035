{
 "cells": [
  {
   "cell_type": "markdown",
   "metadata": {},
   "source": [
    "#importing the libraries"
   ]
  },
  {
   "cell_type": "code",
   "execution_count": 1,
   "metadata": {},
   "outputs": [],
   "source": [
    "import cv2\n",
    "\n",
    "import numpy as np"
   ]
  },
  {
   "cell_type": "code",
   "execution_count": 2,
   "metadata": {},
   "outputs": [
    {
     "name": "stdout",
     "output_type": "stream",
     "text": [
      "['person', 'bicycle', 'car', 'motorcycle', 'airplane', 'bus', 'train', 'truck', 'boat', 'traffic light', 'fire hydrant', 'street sign', 'stop sign', 'parking meter', 'bench', 'bird', 'cat', 'dog', 'horse', 'sheep', 'cow', 'elephant', 'bear', 'zebra', 'giraffe', 'hat', 'backpack', 'umbrella', 'shoe', 'eye glasses', 'handbag', 'tie', 'suitcase', 'frisbee', 'skis', 'snowboard', 'sports ball', 'kite', 'baseball bat', 'baseball glove', 'skateboard', 'surfboard', 'tennis racket', 'bottle', 'plate', 'wine glass', 'cup', 'fork', 'knife', 'spoon', 'bowl', 'banana', 'apple', 'sandwich', 'orange', 'broccoli', 'carrot', 'hot dog', 'pizza', 'donut', 'cake', 'chair', 'couch', 'potted plant', 'bed', 'mirror', 'dining table', 'window', 'desk', 'toilet', 'door', 'tv', 'laptop', 'mouse', 'remote', 'keyboard', 'cell phone', 'microwave', 'oven', 'toaster', 'sink', 'refrigerator', 'blender', 'book', 'clock', 'vase', 'scissors', 'teddy bear', 'hair drier', 'toothbrush', 'hair brush']\n"
     ]
    }
   ],
   "source": [
    "# Load the model\n",
    "net = cv2.dnn.readNetFromTensorflow(\"frozen_inference_graph_coco.pb\",\"mask_rcnn_inception_v2_coco_2018_01_28.pbtxt\")\n",
    "\n",
    "# Store Coco Names in a list\n",
    "classesFile = \"coco.names\"\n",
    "classNames = open(classesFile).read().strip().split('\\n')\n",
    "print(classNames)"
   ]
  },
  {
   "cell_type": "code",
   "execution_count": 3,
   "metadata": {},
   "outputs": [],
   "source": [
    "# Load image\n",
    "img = cv2.imread(\"image.jpg\")\n",
    "height, width, _ = img.shape\n",
    "\n",
    "# Create black image\n",
    "blank_mask = np.zeros((height, width, 3), np.uint8)\n",
    "blank_mask[:] = (0, 0, 0)\n",
    "\n",
    "# Create blob from the image\n",
    "blob = cv2.dnn.blobFromImage(img, swapRB=True)\n"
   ]
  },
  {
   "cell_type": "code",
   "execution_count": 4,
   "metadata": {},
   "outputs": [
    {
     "name": "stdout",
     "output_type": "stream",
     "text": [
      "100\n"
     ]
    }
   ],
   "source": [
    "# Detect objects\n",
    "net.setInput(blob)\n",
    "\n",
    "boxes, masks = net.forward([\"detection_out_final\", \"detection_masks\"])\n",
    "detection_count = boxes.shape[2]\n",
    "\n",
    "print(detection_count)"
   ]
  },
  {
   "cell_type": "code",
   "execution_count": 5,
   "metadata": {},
   "outputs": [],
   "source": [
    "count=0\n",
    "for i in range(detection_count):\n",
    "  # Extract information from detection\n",
    "  box = boxes[0, 0, i]\n",
    "  class_id = int(box[1])\n",
    "  score = box[2]\n",
    "  # print(class_id, score)\n",
    "  if score < 0.6:\n",
    "    continue\n",
    "\n",
    "  # print(class_id)\n",
    "  class_name = (classNames[class_id])\n",
    "  # print(class_name, score)\n",
    "  x = int(box[3] * width)\n",
    "  y = int(box[4] * height)\n",
    "  x2 = int(box[5] * width)\n",
    "  y2 = int(box[6] * height)\n",
    "\n",
    "  roi = blank_mask[y: y2, x: x2]\n",
    "  roi_height, roi_width, _ = roi.shape\n",
    "\n",
    "  # Get the mask\n",
    "  mask = masks[i, int(class_id)]\n",
    "  mask = cv2.resize(mask, (roi_width, roi_height))\n",
    "  _, mask = cv2.threshold(mask, 0.5, 255, cv2.THRESH_BINARY)\n",
    "\n",
    "  count+=1\n",
    "  # Find contours of the mask\n",
    "  contours, _ = cv2.findContours(np.array(mask, np.uint8), cv2.RETR_EXTERNAL, \n",
    "  cv2.CHAIN_APPROX_SIMPLE)\n",
    "  color = np.random.randint(0, 255, 3, dtype='uint8')\n",
    "  color = [int(c) for c in color]\n",
    "\n",
    "    # fill some color in segmented area\n",
    "  for cnt in contours:\n",
    "      cv2.fillPoly(roi, [cnt], (int(color[0]), int(color[1]), int(color[2])))\n",
    "      \n",
    "    # Draw bounding box\n",
    "  cv2.rectangle(img, (x, y), (x2, y2), color, 2)\n",
    "  cv2.putText(img, class_name + \" \" + str(score), (x, y-5), \n",
    "  cv2.FONT_HERSHEY_SIMPLEX, .5, (255, 255, 255), 1)"
   ]
  },
  {
   "cell_type": "code",
   "execution_count": 6,
   "metadata": {},
   "outputs": [
    {
     "data": {
      "text/plain": [
       "True"
      ]
     },
     "execution_count": 6,
     "metadata": {},
     "output_type": "execute_result"
    }
   ],
   "source": [
    "cv2.imshow(\"Black image\", blank_mask)\n",
    "cv2.imshow(\"Mask image\", img)\n",
    "cv2.waitKey(0)\n",
    "cv2.imwrite(\"Black image.jpg\", blank_mask)\n",
    "cv2.imwrite(\"Mask image.jpg\", img)"
   ]
  },
  {
   "cell_type": "code",
   "execution_count": 7,
   "metadata": {},
   "outputs": [
    {
     "data": {
      "text/plain": [
       "True"
      ]
     },
     "execution_count": 7,
     "metadata": {},
     "output_type": "execute_result"
    }
   ],
   "source": [
    "# alpha is the transparency of the first picture\n",
    "alpha = 1\n",
    "# beta is the transparency of the second picture\n",
    "beta = 0.8\n",
    "mask_img = cv2.addWeighted(img, alpha, blank_mask, beta, 0)\n",
    "#cv2.imshow(\"Final Output\", mask_img)\n",
    "cv2.imwrite('finaloutput.jpg', mask_img)"
   ]
  }
 ],
 "metadata": {
  "interpreter": {
   "hash": "81794d4967e6c3204c66dcd87b604927b115b27c00565d3d43f05ba2f3a2cb0d"
  },
  "kernelspec": {
   "display_name": "Python 3.9.4 64-bit",
   "language": "python",
   "name": "python3"
  },
  "language_info": {
   "codemirror_mode": {
    "name": "ipython",
    "version": 3
   },
   "file_extension": ".py",
   "mimetype": "text/x-python",
   "name": "python",
   "nbconvert_exporter": "python",
   "pygments_lexer": "ipython3",
   "version": "3.9.4"
  },
  "orig_nbformat": 4
 },
 "nbformat": 4,
 "nbformat_minor": 2
}
